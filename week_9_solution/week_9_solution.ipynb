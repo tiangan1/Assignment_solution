{
 "cells": [
  {
   "cell_type": "markdown",
   "metadata": {},
   "source": [
    "# Answer1 #\n",
    "```Python\n",
    "class sta:\n",
    "    def mean(l):\n",
    "       \"\"\" add value and return their mean \"\"\"\n",
    "        sum(l)/len(l)\n",
    "    def variance(l):\n",
    "       \"\"\" return their variance \"\"\"\n",
    "        s1=0;\n",
    "        s2=0;\n",
    "        for i in l:\n",
    "            s1 += i**2\n",
    "            s2 += i;\n",
    "            return float(s1)/len(l)-(float(s2)/len(l))**2;\n",
    "    def std(l):\n",
    "       \"\"\" return their standard deviation \"\"\"\n",
    "        f1=0;\n",
    "        f2=0;\n",
    "        for j in l:\n",
    "            f1 += j**2\n",
    "            f2 += j;\n",
    "            return (float(f1)/len(l)-(float(f2)/len(l))**2)**0.5;\n",
    "adict = { 'mean' : round(sta.mean(l),2), 'variance':round(sta.variance(l),2), 'standard deviation':round(sta.std(l),2)}  \n",
    "```"
   ]
  },
  {
   "cell_type": "code",
   "execution_count": 141,
   "metadata": {},
   "outputs": [],
   "source": [
    "class sta:\n",
    "    def mean(l):\n",
    "        return sum(l)/len(l)\n",
    "    def variance(l):\n",
    "        s1=0;\n",
    "        s2=0;\n",
    "        for i in l:\n",
    "            s1 += i**2\n",
    "            s2 += i;\n",
    "            return float(s1)/len(l)-(float(s2)/len(l))**2;\n",
    "    def std(l):\n",
    "        f1=0;\n",
    "        f2=0;\n",
    "        for j in l:\n",
    "            f1 += j**2\n",
    "            f2 += j;\n",
    "            return (float(f1)/len(l)-(float(f2)/len(l))**2)**0.5;\n",
    "adict = { 'mean' : round(sta.mean(l),2), 'variance':round(sta.variance(l),2), 'standard deviation':round(sta.std(l),2)}  "
   ]
  },
  {
   "cell_type": "code",
   "execution_count": 142,
   "metadata": {},
   "outputs": [
    {
     "name": "stdout",
     "output_type": "stream",
     "text": [
      "{'mean': 2.0, 'variance': 0.22, 'standard deviation': 0.47}\n"
     ]
    }
   ],
   "source": [
    "a=[1,4,6,7,8,9]\n",
    "print(adict)"
   ]
  },
  {
   "cell_type": "markdown",
   "metadata": {},
   "source": [
    "# Answer ii #\n",
    "```python\n",
    "l=[]\n",
    "n=1\n",
    "x=0\n",
    "while n>0:\n",
    "    for n in range(n):\n",
    "        a=input()\n",
    "        if a=='stop':\n",
    "            break;\n",
    "            \n",
    "    else: \n",
    "        l.append(int(a))\n",
    "        n+=1\n",
    "print(l)\n",
    "class sta:\n",
    "    def mean(l):\n",
    "        return sum(l)/len(l)\n",
    "    def variance(l):\n",
    "        s1=0;\n",
    "        s2=0;\n",
    "        for i in l:\n",
    "            s1 += i**2\n",
    "            s2 += i;\n",
    "            return float(s1)/len(l)-(float(s2)/len(l))**2;\n",
    "    def std(l):\n",
    "        f1=0;\n",
    "        f2=0;\n",
    "        for j in l:\n",
    "            f1 += j**2\n",
    "            f2 += j;\n",
    "            return (float(f1)/len(l)-(float(f2)/len(l))**2)**0.5;\n",
    "adict = { 'mean' : round(sta.mean(l),2), 'variance':round(sta.variance(l),2), 'standard deviation':round(sta.std(l),2)}  \n",
    "print(adict)\n",
    "```"
   ]
  },
  {
   "cell_type": "code",
   "execution_count": 140,
   "metadata": {},
   "outputs": [
    {
     "name": "stdout",
     "output_type": "stream",
     "text": [
      "1\n",
      "2\n",
      "3\n",
      "stop\n",
      "[1, 2, 3]\n",
      "{'mean': 2.0, 'variance': 0.22, 'standard deviation': 0.47}\n"
     ]
    }
   ],
   "source": [
    "l=[]\n",
    "n=1\n",
    "x=0\n",
    "while n>0:\n",
    "    for n in range(n):\n",
    "        a=input()\n",
    "        if a=='stop':\n",
    "            break;\n",
    "            \n",
    "    else: \n",
    "        l.append(int(a))\n",
    "        n+=1\n",
    "print(l)\n",
    "class sta:\n",
    "    def mean(l):\n",
    "        return sum(l)/len(l)\n",
    "    def variance(l):\n",
    "        s1=0;\n",
    "        s2=0;\n",
    "        for i in l:\n",
    "            s1 += i**2\n",
    "            s2 += i;\n",
    "            return float(s1)/len(l)-(float(s2)/len(l))**2;\n",
    "    def std(l):\n",
    "        f1=0;\n",
    "        f2=0;\n",
    "        for j in l:\n",
    "            f1 += j**2\n",
    "            f2 += j;\n",
    "            return (float(f1)/len(l)-(float(f2)/len(l))**2)**0.5;\n",
    "adict = { 'mean' : round(sta.mean(l),2), 'variance':round(sta.variance(l),2), 'standard deviation':round(sta.std(l),2)}  \n",
    "print(adict)"
   ]
  }
 ],
 "metadata": {
  "kernelspec": {
   "display_name": "Python 3",
   "language": "python",
   "name": "python3"
  }
 },
 "nbformat": 4,
 "nbformat_minor": 2
}

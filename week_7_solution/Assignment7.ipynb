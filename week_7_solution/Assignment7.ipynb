{
 "cells": [
  {
   "cell_type": "markdown",
   "metadata": {},
   "source": [
    "### Answer I\n",
    "```Python\n",
    "x=int(input(\"Input a numeric grade: \"))\n",
    "if 0 <= x < 60:\n",
    "    print('F')\n",
    "elif x < 70:\n",
    "    print('D')   \n",
    "elif x < 80:\n",
    "    print('C')    \n",
    "elif x < 90:\n",
    "    print('B')   \n",
    "else:\n",
    "    print('A')\n",
    "```"
   ]
  },
  {
   "cell_type": "markdown",
   "metadata": {},
   "source": [
    "### Answer II\n",
    "```Python\n",
    "x=[\"a list of x\"]\n",
    "y=[\"a list of y\"]\n",
    "z=x+y\n",
    "print(z)\n",
    "```"
   ]
  },
  {
   "cell_type": "markdown",
   "metadata": {},
   "source": [
    "### Answer III\n",
    "```Python\n",
    "x = input(\"input a string:\")\n",
    "y = x[::-1]\n",
    "if x==y:\n",
    "    print('True')\n",
    "else:\n",
    "    print('False')\n",
    "```\n",
    "- return reverse of a string "
   ]
  },
  {
   "cell_type": "markdown",
   "metadata": {},
   "source": [
    "### Answer IV\n",
    "```Python\n",
    "num=[]\n",
    "for i in range(100, 401):\n",
    "    x = str(i)\n",
    "    if (int(x[0])%2==0) and (int(x[1])%2==0) and (int(x[2])%2==0):\n",
    "        num.append(x)\n",
    "print(\",\".join(num))\n",
    "```\n",
    "- 100-199 each number comtain a odd number\"1\"\n",
    "- 300-399 each number comtain a odd number\"3\"\n",
    "- 200-299 and 400 mix odd and even number"
   ]
  },
  {
   "cell_type": "markdown",
   "metadata": {},
   "source": [
    "### Answer V\n",
    "```Python\n",
    "def count(tststr):\n",
    "    tststr = string.lower().split()\n",
    "    tstDict = {}\n",
    "for c in tststr:\n",
    "    if c in tstDict:\n",
    "        tstDict[c] += 1\n",
    "    else:\n",
    "        tstDict[c] = 1\n",
    "print(tstDict)\n",
    "```"
   ]
  },
  {
   "cell_type": "code",
   "execution_count": null,
   "metadata": {},
   "outputs": [],
   "source": []
  }
 ],
 "metadata": {
  "kernelspec": {
   "display_name": "Python 3",
   "language": "python",
   "name": "python3"
  },
  "language_info": {
   "codemirror_mode": {
    "name": "ipython",
    "version": 3
   },
   "file_extension": ".py",
   "mimetype": "text/x-python",
   "name": "python",
   "nbconvert_exporter": "python",
   "pygments_lexer": "ipython3",
   "version": "3.7.1"
  }
 },
 "nbformat": 4,
 "nbformat_minor": 2
}
